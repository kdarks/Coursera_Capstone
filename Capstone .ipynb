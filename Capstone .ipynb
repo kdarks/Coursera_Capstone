{
    "cells": [
        {
            "cell_type": "markdown",
            "metadata": {
                "collapsed": true
            },
            "source": "## IBM Data Science Capstone Project"
        },
        {
            "cell_type": "markdown",
            "metadata": {},
            "source": "This Jupyter Notebook will be used to complete the Capstone Project for the IBM Data Science Certificate"
        },
        {
            "cell_type": "code",
            "execution_count": 1,
            "metadata": {},
            "outputs": [],
            "source": "import pandas as pd\nimport numpy as np"
        },
        {
            "cell_type": "code",
            "execution_count": 4,
            "metadata": {},
            "outputs": [
                {
                    "name": "stdout",
                    "output_type": "stream",
                    "text": "Hello Capstone Project Course!\n"
                }
            ],
            "source": "print (\"Hello Capstone Project Course!\")"
        },
        {
            "cell_type": "markdown",
            "metadata": {},
            "source": "## Section 1: Introduction/Business Problem\nThe purpose of this report is to determine if there is a way to predict the quality of red wine based on certain variables of the wine.  If a vineyard is told that a certain variable has more or less influence on the quality of the wine, they may be able to change those variables and increase their quality of wine, leading to more sales and more profit.  "
        },
        {
            "cell_type": "markdown",
            "metadata": {},
            "source": "## Section 2: Data\nThe dataset I will be using for this Capstone revolves around red wine.  This dataset is related to red variants of the Portuguese \"Vinho Verde\" wine.\n\nThe data includes eleven variables that can be tested in the wine:1 - fixed acidity 2 - volatile acidity 3 - citric acid 4 - residual sugar 5 - chlorides 6 - free sulfur dioxide 7 - total sulfur dioxide 8 - density 9 - pH 10 - sulphates 11 - alcohol.  The data also includes a 12th column, which is Quality, a score between 0 and 10. The purpose of this report is to determine if the quality of a wine can be predicted based on the eleven qualities listed above. \n\nRelevant publication\nP. Cortez, A. Cerdeira, F. Almeida, T. Matos and J. Reis. Modeling wine preferences by data mining from physicochemical properties.In Decision Support Systems, Elsevier, 47(4):547-553, 2009."
        },
        {
            "cell_type": "code",
            "execution_count": null,
            "metadata": {},
            "outputs": [],
            "source": ""
        }
    ],
    "metadata": {
        "kernelspec": {
            "display_name": "Python 3.6",
            "language": "python",
            "name": "python3"
        },
        "language_info": {
            "codemirror_mode": {
                "name": "ipython",
                "version": 3
            },
            "file_extension": ".py",
            "mimetype": "text/x-python",
            "name": "python",
            "nbconvert_exporter": "python",
            "pygments_lexer": "ipython3",
            "version": "3.6.9"
        }
    },
    "nbformat": 4,
    "nbformat_minor": 1
}